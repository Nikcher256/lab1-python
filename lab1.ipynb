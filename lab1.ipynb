{
 "cells": [
  {
   "cell_type": "code",
   "execution_count": null,
   "id": "ba20d993-ad85-4bce-8ef1-e7ffdb7f1937",
   "metadata": {},
   "outputs": [],
   "source": [
    "N = ord(\"M\") % 10 + 1\n",
    "print(f\"Номер варіанта: {N}\")"
   ]
  },
  {
   "cell_type": "markdown",
   "id": "c897acc3-c12d-4dd2-aea0-48293ec45b8d",
   "metadata": {},
   "source": [
    "# Грузія (Sakartvelo)\n",
    "\n",
    "<div style=\"border:2px solid #888; padding:10px; border-radius:8px;\">\n",
    "<b>Коротко:</b> площа <span style=\"color:#b30000;\"><b>69 700 км²</b></span>, населення ≈ <span style=\"color:#0066cc;\"><b>3.7 млн</b></span>, столиця — <i>Тбілісі</i>, державна мова — <b>грузинська</b>, валюта — <b>ларі (GEL)</b>, устрій — <b>унітарна напівпрезидентська республіка</b>.\n",
    "</div>\n",
    "\n",
    "## Основні відомості (таблиця)\n",
    "\n",
    "| Показник | Значення |\n",
    "|---|---|\n",
    "| Столиця | Тбілісі |\n",
    "| Найбільші міста | Кутаїсі, Батумі, Руставі |\n",
    "| Мова | Грузинська |\n",
    "| Валюта | Ларі (GEL) |\n",
    "| Релігія | Переважно православ'я |\n",
    "\n",
    "## Культура та природа (вкладені списки)\n",
    "- Культура\n",
    "  - Поліфонічний спів (ЮНЕСКО)\n",
    "  - Кухня: хачапурі, хінкалі, сациві\n",
    "  - Вино: Кахетія, квеврі\n",
    "- Природа\n",
    "  - Кавказькі гори\n",
    "    - Ушба, Казбек\n",
    "  - Чорноморське узбережжя\n",
    "    - Батумі, Аджарія\n",
    "\n",
    "## Видатні постаті\n",
    "- Шота Руставелі — поет\n",
    "- Ілля Чавчавадзе — письменник і громадський діяч\n",
    "- Ніко Піросмані — художник\n",
    "\n",
    "## Зображення\n",
    "![Тбілісі](https://images.pexels.com/photos/31701709/pexels-photo-31701709.jpeg?cs=srgb&dl=pexels-ercan-evcimen-626365917-31701709.jpg&fm=jpg)\n",
    "\n",
    "<img src=\"https://upload.wikimedia.org/wikipedia/commons/thumb/0/0f/Flag_of_Georgia.svg/2560px-Flag_of_Georgia.svg.png\" alt=\"Прапор Грузії\" width=\"220\"/>\n",
    "\n",
    "**Джерело:** [Вікіпедія — Georgia](https://uk.wikipedia.org/wiki/%D0%93%D1%80%D1%83%D0%B7%D1%96%D1%8F)\n",
    "\n",
    "\n"
   ]
  },
  {
   "cell_type": "code",
   "execution_count": 24,
   "id": "4c86814c-9802-434d-bc5f-229725194c72",
   "metadata": {},
   "outputs": [
    {
     "data": {
      "text/html": [
       "<svg width=\"300\" height=\"180\" viewBox=\"0 0 300 180\" xmlns=\"http://www.w3.org/2000/svg\">\n",
       "  <rect width=\"300\" height=\"180\" fill=\"white\"/>\n",
       "  <rect x=\"0\" y=\"70\" width=\"300\" height=\"40\" fill=\"#D91E18\"/>\n",
       "  <rect x=\"130\" y=\"0\" width=\"40\" height=\"180\" fill=\"#D91E18\"/>\n",
       "  <g fill=\"#D91E18\">\n",
       "    <rect x=\"45\" y=\"30\" width=\"30\" height=\"10\"/>\n",
       "    <rect x=\"55\" y=\"20\" width=\"10\" height=\"30\"/>\n",
       "  </g>\n",
       "  <g fill=\"#D91E18\">\n",
       "    <rect x=\"225\" y=\"30\" width=\"30\" height=\"10\"/>\n",
       "    <rect x=\"235\" y=\"20\" width=\"10\" height=\"30\"/>\n",
       "  </g>\n",
       "  <g fill=\"#D91E18\">\n",
       "    <rect x=\"45\" y=\"140\" width=\"30\" height=\"10\"/>\n",
       "    <rect x=\"55\" y=\"130\" width=\"10\" height=\"30\"/>\n",
       "  </g>\n",
       "  <g fill=\"#D91E18\">\n",
       "    <rect x=\"225\" y=\"140\" width=\"30\" height=\"10\"/>\n",
       "    <rect x=\"235\" y=\"130\" width=\"10\" height=\"30\"/>\n",
       "  </g>\n",
       "</svg>\n"
      ],
      "text/plain": [
       "<IPython.core.display.HTML object>"
      ]
     },
     "metadata": {},
     "output_type": "display_data"
    }
   ],
   "source": [
    "%%html\n",
    "<svg width=\"300\" height=\"180\" viewBox=\"0 0 300 180\" xmlns=\"http://www.w3.org/2000/svg\">\n",
    "  <rect width=\"300\" height=\"180\" fill=\"white\"/>\n",
    "  <rect x=\"0\" y=\"70\" width=\"300\" height=\"40\" fill=\"#D91E18\"/>\n",
    "  <rect x=\"130\" y=\"0\" width=\"40\" height=\"180\" fill=\"#D91E18\"/>\n",
    "  <g fill=\"#D91E18\">\n",
    "    <rect x=\"45\" y=\"30\" width=\"30\" height=\"10\"/>\n",
    "    <rect x=\"55\" y=\"20\" width=\"10\" height=\"30\"/>\n",
    "  </g>\n",
    "  <g fill=\"#D91E18\">\n",
    "    <rect x=\"225\" y=\"30\" width=\"30\" height=\"10\"/>\n",
    "    <rect x=\"235\" y=\"20\" width=\"10\" height=\"30\"/>\n",
    "  </g>\n",
    "  <g fill=\"#D91E18\">\n",
    "    <rect x=\"45\" y=\"140\" width=\"30\" height=\"10\"/>\n",
    "    <rect x=\"55\" y=\"130\" width=\"10\" height=\"30\"/>\n",
    "  </g>\n",
    "  <g fill=\"#D91E18\">\n",
    "    <rect x=\"225\" y=\"140\" width=\"30\" height=\"10\"/>\n",
    "    <rect x=\"235\" y=\"130\" width=\"10\" height=\"30\"/>\n",
    "  </g>\n",
    "</svg>\n"
   ]
  },
  {
   "cell_type": "code",
   "execution_count": 30,
   "id": "715fd719-f441-463d-92a3-487799725012",
   "metadata": {},
   "outputs": [],
   "source": [
    "def parse_int_tokens(tokens):\n",
    "    \"\"\"Перевіряє, що всі токени — цілі числа. Повертає список int або ValueError.\"\"\"\n",
    "    for t in tokens:\n",
    "        if not t.lstrip('-').isdigit():\n",
    "            raise ValueError(f\"'{t}' не є цілим числом\")\n",
    "    return list(map(int, tokens))\n",
    "\n",
    "def gnome_sort_desc(arr):\n",
    "    \"\"\"Гном’яче сортування за спаданням.\"\"\"\n",
    "    i = 0\n",
    "    while i < len(arr):\n",
    "        if i == 0 or arr[i] <= arr[i-1]:\n",
    "            i += 1\n",
    "        else:\n",
    "            arr[i], arr[i-1] = arr[i-1], arr[i]\n",
    "            i -= 1\n",
    "    return arr\n",
    "\n",
    "def task_8():\n",
    "    \"\"\"Зчитує рядок чисел, валідуює та виводить список, відсортований за спаданням.\"\"\"\n",
    "    raw = input(\"Введіть цілі числа через пробіл: \").split()\n",
    "    try:\n",
    "        arr = parse_int_tokens(raw)\n",
    "    except ValueError as e:\n",
    "        print(f\"Помилка:\", e)\n",
    "        return\n",
    "    print(\"Відсортований список:\", gnome_sort_desc(arr))\n"
   ]
  },
  {
   "cell_type": "code",
   "execution_count": 31,
   "id": "efd9d953-556b-472e-a8e9-5dc2af33a650",
   "metadata": {},
   "outputs": [
    {
     "name": "stdout",
     "output_type": "stream",
     "text": [
      "Test 1: [78, 34, 23, 7, 5, 3, 3]\n",
      "Test 2: [10, 10, 0, 0, -1, -5]\n",
      "Test 3: OK -> 'f' не є цілим числом\n"
     ]
    }
   ],
   "source": [
    "# Тест 1\n",
    "data = [5, 3, 78, 3, 23, 7, 34]\n",
    "expect = [78, 34, 23, 7, 5, 3, 3]\n",
    "res = gnome_sort_desc(data.copy())\n",
    "print(\"Test 1:\", res)\n",
    "assert res == expect\n",
    "\n",
    "# Тест 2 — від’ємні та повтори\n",
    "data = [-1, 0, 0, 10, -5, 10]\n",
    "expect = [10, 10, 0, 0, -1, -5]\n",
    "res = gnome_sort_desc(data.copy())\n",
    "print(\"Test 2:\", res)\n",
    "assert res == expect\n",
    "\n",
    "# Тест 3 — перевірка контролю (має бути помилка)\n",
    "try:\n",
    "    _ = parse_int_tokens(\"1 2 f 45\".split())\n",
    "    print(\"Test 3: expected failure but passed\")\n",
    "except ValueError as e:\n",
    "    print(\"Test 3: OK ->\", e)\n"
   ]
  },
  {
   "cell_type": "code",
   "execution_count": 33,
   "id": "22ffa524-f3fa-4839-92e6-74e128185139",
   "metadata": {},
   "outputs": [
    {
     "name": "stdin",
     "output_type": "stream",
     "text": [
      "Введіть цілі числа через пробіл:  а 3\n"
     ]
    },
    {
     "name": "stdout",
     "output_type": "stream",
     "text": [
      "Помилка: 'а' не є цілим числом\n"
     ]
    }
   ],
   "source": [
    "task_8()"
   ]
  },
  {
   "cell_type": "code",
   "execution_count": null,
   "id": "97a37f2d-5641-4b08-9cc3-1dc5023365a7",
   "metadata": {},
   "outputs": [],
   "source": []
  }
 ],
 "metadata": {
  "kernelspec": {
   "display_name": "Python [conda env:base] *",
   "language": "python",
   "name": "conda-base-py"
  },
  "language_info": {
   "codemirror_mode": {
    "name": "ipython",
    "version": 3
   },
   "file_extension": ".py",
   "mimetype": "text/x-python",
   "name": "python",
   "nbconvert_exporter": "python",
   "pygments_lexer": "ipython3",
   "version": "3.13.5"
  }
 },
 "nbformat": 4,
 "nbformat_minor": 5
}
